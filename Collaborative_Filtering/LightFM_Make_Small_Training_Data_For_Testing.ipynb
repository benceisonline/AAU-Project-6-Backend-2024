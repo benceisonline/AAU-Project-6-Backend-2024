{
 "cells": [
  {
   "cell_type": "markdown",
   "metadata": {},
   "source": [
    "To test partial fit, we make a training data that is half the size of the original"
   ]
  },
  {
   "cell_type": "code",
   "execution_count": 15,
   "metadata": {},
   "outputs": [],
   "source": [
    "import pandas as pd"
   ]
  },
  {
   "cell_type": "code",
   "execution_count": 16,
   "metadata": {},
   "outputs": [
    {
     "data": {
      "text/html": [
       "<div>\n",
       "<style scoped>\n",
       "    .dataframe tbody tr th:only-of-type {\n",
       "        vertical-align: middle;\n",
       "    }\n",
       "\n",
       "    .dataframe tbody tr th {\n",
       "        vertical-align: top;\n",
       "    }\n",
       "\n",
       "    .dataframe thead th {\n",
       "        text-align: right;\n",
       "    }\n",
       "</style>\n",
       "<table border=\"1\" class=\"dataframe\">\n",
       "  <thead>\n",
       "    <tr style=\"text-align: right;\">\n",
       "      <th></th>\n",
       "      <th>userID</th>\n",
       "      <th>itemID</th>\n",
       "      <th>rating</th>\n",
       "      <th>genre</th>\n",
       "    </tr>\n",
       "  </thead>\n",
       "  <tbody>\n",
       "    <tr>\n",
       "      <th>0</th>\n",
       "      <td>13538</td>\n",
       "      <td>9738663</td>\n",
       "      <td>1</td>\n",
       "      <td>Erhverv</td>\n",
       "    </tr>\n",
       "    <tr>\n",
       "      <th>1</th>\n",
       "      <td>13538</td>\n",
       "      <td>9738569</td>\n",
       "      <td>1</td>\n",
       "      <td>Erhverv</td>\n",
       "    </tr>\n",
       "    <tr>\n",
       "      <th>2</th>\n",
       "      <td>13538</td>\n",
       "      <td>9738490</td>\n",
       "      <td>1</td>\n",
       "      <td>Erhverv</td>\n",
       "    </tr>\n",
       "    <tr>\n",
       "      <th>3</th>\n",
       "      <td>13538</td>\n",
       "      <td>9738667</td>\n",
       "      <td>1</td>\n",
       "      <td>Erhverv</td>\n",
       "    </tr>\n",
       "    <tr>\n",
       "      <th>4</th>\n",
       "      <td>13538</td>\n",
       "      <td>9738528</td>\n",
       "      <td>1</td>\n",
       "      <td>Livsstil</td>\n",
       "    </tr>\n",
       "  </tbody>\n",
       "</table>\n",
       "</div>"
      ],
      "text/plain": [
       "   userID   itemID  rating     genre\n",
       "0   13538  9738663       1   Erhverv\n",
       "1   13538  9738569       1   Erhverv\n",
       "2   13538  9738490       1   Erhverv\n",
       "3   13538  9738667       1   Erhverv\n",
       "4   13538  9738528       1  Livsstil"
      ]
     },
     "execution_count": 16,
     "metadata": {},
     "output_type": "execute_result"
    }
   ],
   "source": [
    "train_data = pd.read_csv(\"exported_data/train_data.csv\")\n",
    "train_data.head()"
   ]
  },
  {
   "cell_type": "code",
   "execution_count": 17,
   "metadata": {},
   "outputs": [],
   "source": [
    "half_rows = int(len(train_data) / 2)\n",
    "new_df = train_data.sample(n=half_rows, replace=False, random_state=42)  # Set random_state for reproducibility"
   ]
  },
  {
   "cell_type": "code",
   "execution_count": 18,
   "metadata": {},
   "outputs": [
    {
     "name": "stdout",
     "output_type": "stream",
     "text": [
      "Number of rows in train_data: 3845089\n",
      "Number of rows in new_df: 1922544\n"
     ]
    }
   ],
   "source": [
    "# Print the number of rows in train_data and new_df\n",
    "print(\"Number of rows in train_data:\", len(train_data))\n",
    "print(\"Number of rows in new_df:\", len(new_df))"
   ]
  },
  {
   "cell_type": "code",
   "execution_count": 19,
   "metadata": {},
   "outputs": [
    {
     "name": "stdout",
     "output_type": "stream",
     "text": [
      "Data saved to exported_data/train_data_half.csv\n"
     ]
    }
   ],
   "source": [
    "# Specify the file path where you want to save the CSV file\n",
    "file_path = \"exported_data/train_data_half.csv\"\n",
    "\n",
    "# Save the final_data dataframe to a CSV file\n",
    "new_df.to_csv(file_path, index=False)\n",
    "\n",
    "print(\"Data saved to\", file_path)"
   ]
  }
 ],
 "metadata": {
  "kernelspec": {
   "display_name": "Python 3",
   "language": "python",
   "name": "python3"
  },
  "language_info": {
   "codemirror_mode": {
    "name": "ipython",
    "version": 3
   },
   "file_extension": ".py",
   "mimetype": "text/x-python",
   "name": "python",
   "nbconvert_exporter": "python",
   "pygments_lexer": "ipython3",
   "version": "3.12.2"
  }
 },
 "nbformat": 4,
 "nbformat_minor": 2
}
